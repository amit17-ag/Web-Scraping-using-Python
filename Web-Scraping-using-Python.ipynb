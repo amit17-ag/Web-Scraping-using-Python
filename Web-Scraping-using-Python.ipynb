{
 "cells": [
  {
   "cell_type": "code",
   "execution_count": 1,
   "metadata": {},
   "outputs": [],
   "source": [
    "#scraping data from the content section of a wikipedia page only\n",
    "\n",
    "#import required libraries\n",
    "from bs4 import BeautifulSoup\n",
    "import urllib.request\n",
    "import re\n",
    "\n",
    "#the url from where we will parse our data\n",
    "url = \"https://en.wikipedia.org/wiki/Machine_Learning\"\n",
    "\n",
    "# connect to our desired website with exception handling\n",
    "try:\n",
    "    page = urllib.request.urlopen(url)\n",
    "except:\n",
    "    print(\"An error occured.\")\n",
    "\n",
    "#For parsing the html, the page object is passed to BeautifulSoup.\n",
    "soup = BeautifulSoup(page, 'html.parser')\n",
    "\n",
    "#to find elements in our HTML, we use BeautifulSoup object\n",
    "#When we inspected the website in our html output,we saw that every list item in the content section has a class \n",
    "#that starts with tocsection- \n",
    "#so we can use BeautifulSoup’s find_all method to find all list items with that class.\n",
    "regex = re.compile('^tocsection-')\n",
    "content_lis = soup.find_all('li', attrs={'class': regex})\n",
    "\n",
    "#calling getText method on each list item.\n",
    "#To get the raw text we can loop through the array \n",
    "content = []\n",
    "for li in content_lis:\n",
    "    content.append(li.getText().split('\\n')[0])\n",
    "\n",
    "#saving the content section into a text file \n",
    "with open('ml-wiki.txt', 'w') as f:\n",
    "    for i in content:\n",
    "        f.write(i+\"\\n\")\n",
    "\n"
   ]
  },
  {
   "cell_type": "code",
   "execution_count": null,
   "metadata": {},
   "outputs": [],
   "source": []
  }
 ],
 "metadata": {
  "kernelspec": {
   "display_name": "Python 3",
   "language": "python",
   "name": "python3"
  },
  "language_info": {
   "codemirror_mode": {
    "name": "ipython",
    "version": 3
   },
   "file_extension": ".py",
   "mimetype": "text/x-python",
   "name": "python",
   "nbconvert_exporter": "python",
   "pygments_lexer": "ipython3",
   "version": "3.7.1"
  }
 },
 "nbformat": 4,
 "nbformat_minor": 2
}
